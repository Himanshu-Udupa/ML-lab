{
 "cells": [
  {
   "cell_type": "code",
   "execution_count": 5,
   "id": "7763e3a2-c3ac-4da7-913a-475a7e301c1c",
   "metadata": {},
   "outputs": [
    {
     "name": "stdout",
     "output_type": "stream",
     "text": [
      "Path found: ['S', 'A', 'C', 'G']\n"
     ]
    },
    {
     "data": {
      "text/plain": [
       "['S', 'A', 'C', 'G']"
      ]
     },
     "execution_count": 5,
     "metadata": {},
     "output_type": "execute_result"
    }
   ],
   "source": [
    "def h(n):\n",
    "    H = {'A': 3, 'B': 4, 'C': 2, 'D': 6, 'G': 0, 'S': 5}\n",
    "    return H[n]\n",
    "\n",
    "def a_star_algorithm(graph, start, goal):\n",
    "    open_list = [start]\n",
    "    closed_list = set()\n",
    "    g = {start:0}\n",
    "    parents = {start:start}\n",
    "\n",
    "    while open_list:\n",
    "        open_list.sort(key=lambda v: g[v] + h(v), reverse=True)\n",
    "        n = open_list.pop()\n",
    "        if n == goal:\n",
    "            reconst_path = []\n",
    "            while parents[n] != n:\n",
    "                reconst_path.append(n)\n",
    "                n = parents[n]\n",
    "            reconst_path.append(start)\n",
    "            reconst_path.reverse()\n",
    "            print(f'Path found: {reconst_path}')\n",
    "            return reconst_path\n",
    "\n",
    "        for (m, weight) in graph[n]:\n",
    "            if m not in open_list and m not in closed_list:\n",
    "                open_list.append(m)\n",
    "                parents[m] = n\n",
    "                g[m] = g[n] + weight\n",
    "            else:\n",
    "                if g[m] > g[n] + weight:\n",
    "                    g[m] = g[n] + weight\n",
    "                    parents[m] = n\n",
    "\n",
    "                    if m in closed_list:\n",
    "                        closed_list.remove(m)\n",
    "                        open_list.append(m)\n",
    "        closed_list.add(n)\n",
    "\n",
    "    print('Path does not exist!')\n",
    "    return None\n",
    "\n",
    "\n",
    "graph = {\n",
    "    'S': [('A', 1), ('G', 10)],\n",
    "    'A': [('B', 2), ('C', 1)],\n",
    "    'B': [('D', 5)],\n",
    "    'C': [('D', 3),('G', 4)],\n",
    "    'D': [('G', 2)]\n",
    "}\n",
    "\n",
    "a_star_algorithm(graph, 'S', 'G')"
   ]
  },
  {
   "cell_type": "code",
   "execution_count": null,
   "id": "ef9bc068-3a3b-49e2-8cc7-96e483a28b49",
   "metadata": {},
   "outputs": [],
   "source": []
  }
 ],
 "metadata": {
  "kernelspec": {
   "display_name": "Python 3 (ipykernel)",
   "language": "python",
   "name": "python3"
  },
  "language_info": {
   "codemirror_mode": {
    "name": "ipython",
    "version": 3
   },
   "file_extension": ".py",
   "mimetype": "text/x-python",
   "name": "python",
   "nbconvert_exporter": "python",
   "pygments_lexer": "ipython3",
   "version": "3.11.5"
  }
 },
 "nbformat": 4,
 "nbformat_minor": 5
}
